{
 "metadata": {
  "language_info": {
   "codemirror_mode": {
    "name": "ipython",
    "version": 3
   },
   "file_extension": ".py",
   "mimetype": "text/x-python",
   "name": "python",
   "nbconvert_exporter": "python",
   "pygments_lexer": "ipython3",
   "version": "3.7.4-final"
  },
  "orig_nbformat": 2,
  "kernelspec": {
   "name": "python37464bitbb7e4fe0192d482396f7ed422ae49d83",
   "display_name": "Python 3.7.4 64-bit"
  }
 },
 "nbformat": 4,
 "nbformat_minor": 2,
 "cells": [
  {
   "cell_type": "code",
   "execution_count": 6,
   "metadata": {},
   "outputs": [],
   "source": [
    "# Basic imports\n",
    "import numpy as np\n",
    "import matplotlib.pyplot as plt\n",
    "from scipy.optimize import minimize\n",
    "import time as t\n",
    "import os, glob\n",
    "import sys\n",
    "\n",
    "sys.path.append('C:\\\\Users\\\\Quantum\\\\Documents\\\\Scripts\\\\Qubit-Calibration\\\\calibration')\n",
    "\n",
    "# Own code imports\n",
    "import universal_approximant as ua\n",
    "import calibration\n"
   ]
  }
 ]
}